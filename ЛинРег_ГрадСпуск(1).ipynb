{
 "cells": [
  {
   "cell_type": "code",
   "execution_count": null,
   "id": "251d3be8-0815-43f2-b2ed-b78923f94ab7",
   "metadata": {},
   "outputs": [],
   "source": [
    "import numpy as np   #импортируем необходимые библиотеки\n",
    "import pandas as pd\n",
    "from sklearn.model_selection import train_test_split\n",
    "from sklearn.metrics import mean_absolute_error, mean_squared_error, r2_score\n",
    "import matplotlib.pyplot as plt"
   ]
  },
  {
   "cell_type": "code",
   "execution_count": 5,
   "id": "b27d34b9-4709-4d91-ad77-6b85cd6c383a",
   "metadata": {},
   "outputs": [
    {
     "data": {
      "text/html": [
       "<div>\n",
       "<style scoped>\n",
       "    .dataframe tbody tr th:only-of-type {\n",
       "        vertical-align: middle;\n",
       "    }\n",
       "\n",
       "    .dataframe tbody tr th {\n",
       "        vertical-align: top;\n",
       "    }\n",
       "\n",
       "    .dataframe thead th {\n",
       "        text-align: right;\n",
       "    }\n",
       "</style>\n",
       "<table border=\"1\" class=\"dataframe\">\n",
       "  <thead>\n",
       "    <tr style=\"text-align: right;\">\n",
       "      <th></th>\n",
       "      <th>YearsExperience</th>\n",
       "      <th>Salary</th>\n",
       "    </tr>\n",
       "  </thead>\n",
       "  <tbody>\n",
       "    <tr>\n",
       "      <th>0</th>\n",
       "      <td>1.1</td>\n",
       "      <td>39343</td>\n",
       "    </tr>\n",
       "    <tr>\n",
       "      <th>1</th>\n",
       "      <td>1.3</td>\n",
       "      <td>46205</td>\n",
       "    </tr>\n",
       "    <tr>\n",
       "      <th>2</th>\n",
       "      <td>1.5</td>\n",
       "      <td>37731</td>\n",
       "    </tr>\n",
       "    <tr>\n",
       "      <th>3</th>\n",
       "      <td>2.0</td>\n",
       "      <td>43525</td>\n",
       "    </tr>\n",
       "    <tr>\n",
       "      <th>4</th>\n",
       "      <td>2.2</td>\n",
       "      <td>39891</td>\n",
       "    </tr>\n",
       "  </tbody>\n",
       "</table>\n",
       "</div>"
      ],
      "text/plain": [
       "   YearsExperience  Salary\n",
       "0              1.1   39343\n",
       "1              1.3   46205\n",
       "2              1.5   37731\n",
       "3              2.0   43525\n",
       "4              2.2   39891"
      ]
     },
     "metadata": {},
     "output_type": "display_data"
    }
   ],
   "source": [
    "df = pd.read_csv(\"salary_data.csv\") #читаем данные\n",
    "display(df.head(5))\n",
    "\n",
    "X = df.iloc[:,:-1].values\n",
    "Y = df.iloc[:,1].values"
   ]
  },
  {
   "cell_type": "code",
   "execution_count": 7,
   "id": "adcc1308-7d0c-4ebb-a93d-88c20face5d0",
   "metadata": {},
   "outputs": [],
   "source": [
    "class LinearRegression(): #класс, реализующий модель линейной регрессии\n",
    "\n",
    "    def __init__(self, learning_rate = 0.01, iterations = 1000):  #метод, инициализирующий сдвиг (b) и вес (theta), принимающий кол-во итераций и скорость обучения\n",
    "        self.theta = 0\n",
    "        self.b = 0\n",
    "        self.learning_rate = learning_rate\n",
    "        self.iterations = iterations\n",
    "                \n",
    "\n",
    "    def fit(self, X, Y): #метод принимает X и Y и обновляет веса (изначально они равны 0)\n",
    "        b_current = 0\n",
    "        m_current = 0\n",
    "        points = np.column_stack((X, Y))\n",
    "        \n",
    "        for i in range(self.iterations):\n",
    "            self.b, self.theta = self.update_weights(self.b, self.theta, points)\n",
    "        return self\n",
    "\n",
    "    \n",
    "    def update_weights(self, b_current, m_current, points): #метод для обновления весов и сдвига\n",
    "        b_gradient = 0   \n",
    "        m_gradient = 0\n",
    "        n = len(points)\n",
    "        \n",
    "        x = points[:, 0]\n",
    "        y = points[:, 1]\n",
    "        \n",
    "        initial_prediction = m_current * x + b_current\n",
    "        \n",
    "        b_gradient += (2/n) * np.sum((initial_prediction - y)) #по формуле высчитываем градиентный спуск\n",
    "        m_gradient += (2/n) * np.sum(x * (initial_prediction - y ))\n",
    "        \n",
    "        new_b = b_current - (self.learning_rate * b_gradient)  #обновляем значения градиентного спуска\n",
    "        new_m = m_current - (self.learning_rate * m_gradient)\n",
    "        return new_b, new_m\n",
    "\n",
    "    \n",
    "    def predict(self, X):   #вовзвращаем значения X_test и Y_pred для линии регрессии на графике\n",
    "        print(\"Running...\")   \n",
    "        return self.theta * X + self.b \n",
    "        \n"
   ]
  },
  {
   "cell_type": "code",
   "execution_count": 9,
   "id": "d41ad8b9-355e-428d-9ecf-2268f0a0ff1e",
   "metadata": {},
   "outputs": [
    {
     "name": "stdout",
     "output_type": "stream",
     "text": [
      "Running...\n",
      "Theta =  9398.92\n",
      "Intercept =  26496.31\n"
     ]
    }
   ],
   "source": [
    "X = X.reshape(-1, 1)\n",
    "\n",
    "X_train, X_test, Y_train, Y_test = train_test_split(X, Y, test_size=1/3, random_state=0)\n",
    "\n",
    "model = LinearRegression(iterations=1000, learning_rate=0.01)\n",
    "model.fit(X_train, Y_train) #обучение модели\n",
    "\n",
    "Y_pred = model.predict(X) #предсказание целевой переменной\n",
    "\n",
    "print('Theta = ', np.round(model.theta, 2))  #вывод весов и сдвига модели\n",
    "print('Intercept = ', np.round(model.b, 2))"
   ]
  },
  {
   "cell_type": "code",
   "execution_count": 11,
   "id": "056724d2-ca9b-4b92-9210-5af39af325e6",
   "metadata": {},
   "outputs": [
    {
     "data": {
      "image/png": "[encoded data removed]",
      "text/plain": [
       "<Figure size 640x480 with 1 Axes>"
      ]
     },
     "metadata": {},
     "output_type": "display_data"
    }
   ],
   "source": [
    "plt.scatter(X, Y, color='blue', label = \"Исходные данные\") #визуализация модели\n",
    "plt.plot(X, Y_pred, color='orange', label = \"Линия регрессии\")\n",
    "plt.title('Зависимость зарплаты от опыта')\n",
    "plt.xlabel('Число лет опыта')\n",
    "plt.ylabel('Зарплата')\n",
    "plt.legend()\n",
    "plt.show()\n"
   ]
  },
  {
   "cell_type": "code",
   "execution_count": 13,
   "id": "d41b09b6-99ff-4ab9-905c-1ea1a737e422",
   "metadata": {},
   "outputs": [
    {
     "name": "stdout",
     "output_type": "stream",
     "text": [
      "MAE = 4674.8083\n",
      "MSE = 31478640.3630\n",
      "R2 = 0.9567\n"
     ]
    }
   ],
   "source": [
    "#расчет метрик\n",
    "mae = mean_absolute_error(Y, Y_pred)\n",
    "mse = mean_squared_error(Y, Y_pred)\n",
    "r2 = r2_score(Y, Y_pred)\n",
    "\n",
    "print(f\"MAE = {mae:.4f}\\nMSE = {mse:.4f}\\nR2 = {r2:.4f}\")"
   ]
  }
 ],
 "metadata": {
  "kernelspec": {
   "display_name": "Python 3 (ipykernel)",
   "language": "python",
   "name": "python3"
  },
  "language_info": {
   "codemirror_mode": {
    "name": "ipython",
    "version": 3
   },
   "file_extension": ".py",
   "mimetype": "text/x-python",
   "name": "python",
   "nbconvert_exporter": "python",
   "pygments_lexer": "ipython3",
   "version": "3.12.4"
  }
 },
 "nbformat": 4,
 "nbformat_minor": 5
}
